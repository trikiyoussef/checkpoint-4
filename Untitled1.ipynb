{
 "cells": [
  {
   "cell_type": "code",
   "execution_count": null,
   "metadata": {},
   "outputs": [],
   "source": [
    "n=int(input(\"Enter an integer:\"))\n",
    "print(\"The divisors of the number are:\")\n",
    "for i in range(1,n+1):\n",
    "    if(n%i==0):\n",
    "        print(i)"
   ]
  },
  {
   "cell_type": "code",
   "execution_count": null,
   "metadata": {},
   "outputs": [],
   "source": [
    "nl[]\n",
    "for x in range (1000,4000)\n",
    "for i in range(1, n):\n",
    "    if(n % i == 0):\n",
    "        sum1 = sum1 + i\n",
    "if (sum1 == n):\n",
    "    print(\"The number is a Perfect number!\")\n",
    "else:\n",
    "    print(\"The number is not a Perfect number!\")"
   ]
  },
  {
   "cell_type": "code",
   "execution_count": null,
   "metadata": {},
   "outputs": [],
   "source": [
    "ch=input(\"donner ch\")\n",
    "nl=0\n",
    "nc=0\n",
    "ns=0\n",
    "for i in range (len(ch)) :\n",
    "    if ch[i].isalpha():\n",
    "        nl=nl+1\n",
    "    elif (ch[i]>=\"0\")and(ch[i]<=\"9\"):\n",
    "        nc=nc+1\n",
    "    else:\n",
    "        ns=ns+1\n",
    "print(\"le nombre de lettre \",nl,\"le nombre de chhiffres\",nc,\"le nombre des entiers\",ns)\n"
   ]
  },
  {
   "cell_type": "code",
   "execution_count": null,
   "metadata": {},
   "outputs": [],
   "source": [
    "#resoudre une equation du second degree\n",
    "import cmath\n",
    "a = int (input(\"donner a\"))\n",
    "b = int (input(\"donner b\"))\n",
    "c = int (input(\"donner c\"))\n",
    "d = (b**2) - (4*a*c)\n",
    "x1 = -b-cmath.sqrt(d)/2*a\n",
    "x2 = -b+cmath.sqrt(d)/2*a\n",
    "print(\"solution 1\",x1)\n",
    "print(\"solution 2\",x2)"
   ]
  }
 ],
 "metadata": {
  "kernelspec": {
   "display_name": "Python 3",
   "language": "python",
   "name": "python3"
  },
  "language_info": {
   "codemirror_mode": {
    "name": "ipython",
    "version": 3
   },
   "file_extension": ".py",
   "mimetype": "text/x-python",
   "name": "python",
   "nbconvert_exporter": "python",
   "pygments_lexer": "ipython3",
   "version": "3.8.3"
  }
 },
 "nbformat": 4,
 "nbformat_minor": 4
}
